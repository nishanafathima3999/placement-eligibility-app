{
 "cells": [
  {
   "cell_type": "code",
   "execution_count": 1,
   "id": "48482f9e-c3a0-4c8f-9ea5-7410e5641d3f",
   "metadata": {},
   "outputs": [
    {
     "name": "stdout",
     "output_type": "stream",
     "text": [
      "   student_id              name                        email  \\\n",
      "0           1    Ashley Lambert        jeffery56@example.net   \n",
      "1           2       Corey Hicks    palmerdeborah@example.org   \n",
      "2           3  Christine Rogers      olsondebbie@example.net   \n",
      "3           4      Diana Larson  alexandrialopez@example.com   \n",
      "4           5        Troy Silva         philip17@example.net   \n",
      "\n",
      "                    phone                  dob  degree branch  \\\n",
      "0            731.885.2707  2004-07-21 00:00:00    B.Sc   MECH   \n",
      "1    001-920-221-9617x570  2004-09-29 00:00:00  B.Tech    CSE   \n",
      "2  001-392-612-0105x30843  2003-02-11 00:00:00    B.Sc    ECE   \n",
      "3           (606)735-0736  1999-11-30 00:00:00  B.Tech     IT   \n",
      "4              3002427337  2003-06-16 00:00:00     BCA    ECE   \n",
      "\n",
      "   year_of_passing  CGPA  Backlogs  \n",
      "0             2023  8.60         3  \n",
      "1             2024  9.89         0  \n",
      "2             2024  9.92         3  \n",
      "3             2025  5.73         5  \n",
      "4             2023  6.96         2  \n"
     ]
    }
   ],
   "source": [
    "import sqlite3\n",
    "import pandas as pd\n",
    "\n",
    "# Connect to the database\n",
    "conn = sqlite3.connect('students.db')\n",
    "\n",
    "# Read from the students table\n",
    "df_from_db = pd.read_sql_query(\"SELECT * FROM students\", conn)\n",
    "\n",
    "# Show data\n",
    "print(df_from_db.head())\n",
    "\n",
    "# Close connection\n",
    "conn.close()\n"
   ]
  },
  {
   "cell_type": "code",
   "execution_count": 2,
   "id": "7b6d9c6b-e67d-4716-9da2-0314d9da52e6",
   "metadata": {},
   "outputs": [
    {
     "name": "stdout",
     "output_type": "stream",
     "text": [
      "Available tables:\n",
      "[('students',)]\n",
      "   student_id              name                        email  \\\n",
      "0           1    Ashley Lambert        jeffery56@example.net   \n",
      "1           2       Corey Hicks    palmerdeborah@example.org   \n",
      "2           3  Christine Rogers      olsondebbie@example.net   \n",
      "3           4      Diana Larson  alexandrialopez@example.com   \n",
      "4           5        Troy Silva         philip17@example.net   \n",
      "\n",
      "                    phone                  dob  degree branch  \\\n",
      "0            731.885.2707  2004-07-21 00:00:00    B.Sc   MECH   \n",
      "1    001-920-221-9617x570  2004-09-29 00:00:00  B.Tech    CSE   \n",
      "2  001-392-612-0105x30843  2003-02-11 00:00:00    B.Sc    ECE   \n",
      "3           (606)735-0736  1999-11-30 00:00:00  B.Tech     IT   \n",
      "4              3002427337  2003-06-16 00:00:00     BCA    ECE   \n",
      "\n",
      "   year_of_passing  CGPA  Backlogs  \n",
      "0             2023  8.60         3  \n",
      "1             2024  9.89         0  \n",
      "2             2024  9.92         3  \n",
      "3             2025  5.73         5  \n",
      "4             2023  6.96         2  \n"
     ]
    }
   ],
   "source": [
    "import sqlite3\n",
    "import pandas as pd\n",
    "\n",
    "# Since your students.db is in the same Jupyter folder\n",
    "conn = sqlite3.connect(\"students.db\")\n",
    "\n",
    "# Show all available tables\n",
    "cursor = conn.cursor()\n",
    "cursor.execute(\"SELECT name FROM sqlite_master WHERE type='table';\")\n",
    "print(\"Available tables:\")\n",
    "print(cursor.fetchall())\n",
    "\n",
    "# Read students table\n",
    "df = pd.read_sql_query(\"SELECT * FROM students\", conn)\n",
    "print(df.head())\n",
    "\n",
    "conn.close()\n"
   ]
  },
  {
   "cell_type": "code",
   "execution_count": 4,
   "id": "1fb7c1af-49d3-4aa3-a55e-a80b83aec6d3",
   "metadata": {},
   "outputs": [
    {
     "name": "stdout",
     "output_type": "stream",
     "text": [
      "All available tables:\n",
      "students\n",
      "\n",
      "--- students ---\n",
      "   student_id              name                        email  \\\n",
      "0           1    Ashley Lambert        jeffery56@example.net   \n",
      "1           2       Corey Hicks    palmerdeborah@example.org   \n",
      "2           3  Christine Rogers      olsondebbie@example.net   \n",
      "3           4      Diana Larson  alexandrialopez@example.com   \n",
      "4           5        Troy Silva         philip17@example.net   \n",
      "\n",
      "                    phone                  dob  degree branch  \\\n",
      "0            731.885.2707  2004-07-21 00:00:00    B.Sc   MECH   \n",
      "1    001-920-221-9617x570  2004-09-29 00:00:00  B.Tech    CSE   \n",
      "2  001-392-612-0105x30843  2003-02-11 00:00:00    B.Sc    ECE   \n",
      "3           (606)735-0736  1999-11-30 00:00:00  B.Tech     IT   \n",
      "4              3002427337  2003-06-16 00:00:00     BCA    ECE   \n",
      "\n",
      "   year_of_passing  CGPA  Backlogs  \n",
      "0             2023  8.60         3  \n",
      "1             2024  9.89         0  \n",
      "2             2024  9.92         3  \n",
      "3             2025  5.73         5  \n",
      "4             2023  6.96         2  \n"
     ]
    }
   ],
   "source": [
    "import sqlite3\n",
    "import pandas as pd\n",
    "\n",
    "# Reconnect to your database (update the path if needed)\n",
    "conn = sqlite3.connect(r\"C:\\Users\\HP\\students.db\")\n",
    "\n",
    "# Check the connection works by listing tables\n",
    "cursor = conn.cursor()\n",
    "cursor.execute(\"SELECT name FROM sqlite_master WHERE type='table';\")\n",
    "tables = cursor.fetchall()\n",
    "print(\"All available tables:\")\n",
    "for table in tables:\n",
    "    print(table[0])\n",
    "\n",
    "# Read and preview each table\n",
    "for table in tables:\n",
    "    print(f\"\\n--- {table[0]} ---\")\n",
    "    df = pd.read_sql_query(f\"SELECT * FROM {table[0]}\", conn)\n",
    "    print(df.head())\n"
   ]
  },
  {
   "cell_type": "code",
   "execution_count": 5,
   "id": "f0ea0b13-348e-483c-893d-2521e3df2388",
   "metadata": {},
   "outputs": [
    {
     "name": "stdout",
     "output_type": "stream",
     "text": [
      "   student_id            name                        email  \\\n",
      "0           2     Corey Hicks    palmerdeborah@example.org   \n",
      "1           6    Ray Townsend       jennifer47@example.org   \n",
      "2           7    Sandra Davis   janetdominguez@example.org   \n",
      "3           8  Annette Gordon  gonzalezbreanna@example.net   \n",
      "4          22  Rebecca Guzman       aaronwells@example.net   \n",
      "\n",
      "                  phone                  dob  degree branch  year_of_passing  \\\n",
      "0  001-920-221-9617x570  2004-09-29 00:00:00  B.Tech    CSE             2024   \n",
      "1    973.405.4023x10769  2005-04-30 00:00:00    B.Sc     IT             2025   \n",
      "2          310-993-7705  2005-05-01 00:00:00     BCA     IT             2023   \n",
      "3          387-978-4671  2001-08-16 00:00:00   B.Com     IT             2025   \n",
      "4          994-839-5865  2000-09-08 00:00:00   B.Com    EEE             2025   \n",
      "\n",
      "   CGPA  Backlogs  \n",
      "0  9.89         0  \n",
      "1  9.80         1  \n",
      "2  8.02         0  \n",
      "3  8.70         1  \n",
      "4  7.12         0  \n"
     ]
    }
   ],
   "source": [
    "import sqlite3\n",
    "import pandas as pd\n",
    "\n",
    "# Reconnect to the database (if needed)\n",
    "conn = sqlite3.connect(\"students.db\")\n",
    "cursor = conn.cursor()\n",
    "\n",
    "# Write SQL query to filter eligible students\n",
    "query = \"\"\"\n",
    "SELECT * FROM students\n",
    "WHERE cgpa >= 7.0 AND backlogs <= 1\n",
    "\"\"\"\n",
    "\n",
    "# Load into DataFrame\n",
    "eligible_df = pd.read_sql_query(query, conn)\n",
    "\n",
    "# Display top 5 eligible students\n",
    "print(eligible_df.head())\n"
   ]
  },
  {
   "cell_type": "code",
   "execution_count": 7,
   "id": "97062847-0e9a-4d51-a25e-bbe6284371f1",
   "metadata": {},
   "outputs": [
    {
     "name": "stdout",
     "output_type": "stream",
     "text": [
      "✅ Programming table created successfully!\n"
     ]
    }
   ],
   "source": [
    "import sqlite3\n",
    "import pandas as pd\n",
    "import random\n",
    "\n",
    "# Reconnect to database\n",
    "conn = sqlite3.connect(\"students.db\")\n",
    "cursor = conn.cursor()\n",
    "\n",
    "# Sample student_ids from existing students table\n",
    "student_ids = pd.read_sql_query(\"SELECT student_id FROM students\", conn)\n",
    "\n",
    "# Create fake programming scores\n",
    "programming_data = {\n",
    "    \"student_id\": student_ids[\"student_id\"],\n",
    "    \"programming_score\": [random.randint(40, 100) for _ in range(len(student_ids))]\n",
    "}\n",
    "\n",
    "# Convert to DataFrame\n",
    "programming_df = pd.DataFrame(programming_data)\n",
    "\n",
    "# Save to SQL table\n",
    "programming_df.to_sql(\"programming\", conn, if_exists=\"replace\", index=False)\n",
    "\n",
    "print(\"✅ Programming table created successfully!\")\n"
   ]
  },
  {
   "cell_type": "code",
   "execution_count": 8,
   "id": "099c23e8-1165-4129-951a-6800a587b662",
   "metadata": {},
   "outputs": [
    {
     "name": "stdout",
     "output_type": "stream",
     "text": [
      "   student_id            name                        email             phone  \\\n",
      "0           8  Annette Gordon  gonzalezbreanna@example.net      387-978-4671   \n",
      "1          22  Rebecca Guzman       aaronwells@example.net      994-839-5865   \n",
      "2          28     Dylan Avery          mdeleon@example.com  827.591.9165x740   \n",
      "3          43    Corey Travis     fieldsdwayne@example.org  001-402-607-0454   \n",
      "4          60  Michael Nguyen         arthur90@example.org      846-551-7325   \n",
      "\n",
      "                   dob degree branch  year_of_passing  CGPA  Backlogs  \\\n",
      "0  2001-08-16 00:00:00  B.Com     IT             2025  8.70         1   \n",
      "1  2000-09-08 00:00:00  B.Com    EEE             2025  7.12         0   \n",
      "2  2001-05-26 00:00:00  B.Com    EEE             2023  8.00         1   \n",
      "3  2004-11-16 00:00:00   B.Sc    ECE             2024  8.04         1   \n",
      "4  2001-06-18 00:00:00   B.Sc     IT             2025  8.14         1   \n",
      "\n",
      "   programming_score  \n",
      "0                 78  \n",
      "1                 87  \n",
      "2                 61  \n",
      "3                 74  \n",
      "4                 99  \n"
     ]
    }
   ],
   "source": [
    "query = \"\"\"\n",
    "SELECT s.*, p.programming_score\n",
    "FROM students s\n",
    "JOIN programming p ON s.student_id = p.student_id\n",
    "WHERE s.cgpa >= 7.0 AND s.backlogs <= 1 AND p.programming_score >= 60\n",
    "\"\"\"\n",
    "eligible_df = pd.read_sql_query(query, conn)\n",
    "print(eligible_df.head())\n"
   ]
  },
  {
   "cell_type": "code",
   "execution_count": 9,
   "id": "ad618cc8-987b-4f2a-9cf0-1f75e616fb53",
   "metadata": {},
   "outputs": [
    {
     "name": "stdout",
     "output_type": "stream",
     "text": [
      "✅ Soft skills table created successfully!\n"
     ]
    }
   ],
   "source": [
    "import random\n",
    "\n",
    "# Sample soft skill attributes\n",
    "def random_score():\n",
    "    return random.randint(1, 10)\n",
    "\n",
    "soft_skills_data = {\n",
    "    \"student_id\": student_ids[\"student_id\"],\n",
    "    \"communication\": [random_score() for _ in range(len(student_ids))],\n",
    "    \"teamwork\": [random_score() for _ in range(len(student_ids))],\n",
    "    \"leadership\": [random_score() for _ in range(len(student_ids))]\n",
    "}\n",
    "\n",
    "soft_skills_df = pd.DataFrame(soft_skills_data)\n",
    "\n",
    "# Save to database\n",
    "soft_skills_df.to_sql(\"soft_skills\", conn, if_exists=\"replace\", index=False)\n",
    "\n",
    "print(\"✅ Soft skills table created successfully!\")\n"
   ]
  },
  {
   "cell_type": "code",
   "execution_count": 10,
   "id": "2642aa97-2cea-4e58-9dbc-7c5b228e931b",
   "metadata": {},
   "outputs": [
    {
     "name": "stdout",
     "output_type": "stream",
     "text": [
      "✅ Placements table created successfully!\n"
     ]
    }
   ],
   "source": [
    "companies = ['TCS', 'Infosys', 'Wipro', 'Accenture', 'Google', 'Amazon', 'None']\n",
    "\n",
    "placements_data = {\n",
    "    \"student_id\": student_ids[\"student_id\"],\n",
    "    \"company\": [random.choice(companies) for _ in range(len(student_ids))],\n",
    "    \"salary\": [random.randint(300000, 1200000) for _ in range(len(student_ids))]\n",
    "}\n",
    "\n",
    "placements_df = pd.DataFrame(placements_data)\n",
    "\n",
    "# Save to database\n",
    "placements_df.to_sql(\"placements\", conn, if_exists=\"replace\", index=False)\n",
    "\n",
    "print(\"✅ Placements table created successfully!\")\n"
   ]
  },
  {
   "cell_type": "code",
   "execution_count": null,
   "id": "caa2f1dd-82e8-447b-a0ac-ac670fefaec7",
   "metadata": {},
   "outputs": [],
   "source": []
  }
 ],
 "metadata": {
  "kernelspec": {
   "display_name": "Python [conda env:base] *",
   "language": "python",
   "name": "conda-base-py"
  },
  "language_info": {
   "codemirror_mode": {
    "name": "ipython",
    "version": 3
   },
   "file_extension": ".py",
   "mimetype": "text/x-python",
   "name": "python",
   "nbconvert_exporter": "python",
   "pygments_lexer": "ipython3",
   "version": "3.12.7"
  }
 },
 "nbformat": 4,
 "nbformat_minor": 5
}
